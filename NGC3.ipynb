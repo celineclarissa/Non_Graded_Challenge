{
 "cells": [
  {
   "cell_type": "markdown",
   "metadata": {},
   "source": [
    "## Celine Clarissa Phase 0 FTDS Batch 006 BSD"
   ]
  },
  {
   "cell_type": "code",
   "execution_count": 25,
   "metadata": {},
   "outputs": [
    {
     "name": "stdout",
     "output_type": "stream",
     "text": [
      "Book: Jakarta Sebelum Pagi, Author: Ziggy Zezsyazeoviennazabrizkie, Unique Identifier: 9786023758432.\n",
      "Book: Crazy Rich Asians, Author: Kevin Kwan, Unique Identifier: 9780385536974.\n",
      "Book: Hujan, Author: Tere Liye, Unique Identifier: 9786020324784.\n",
      "Book: The Things You Can See Only When You Slow Down, Author: Haemin Sunim, Unique Identifier: 9786024813659.\n",
      "Book: Love for Imperfect Things, Author: Haemin Sunim, Unique Identifier: 9786024814304.\n"
     ]
    }
   ],
   "source": [
    "class Book:\n",
    "    def __init__(self, title, author, unique_identifier):\n",
    "        self.title = title\n",
    "        self.author = author\n",
    "        self.unique_identifier = unique_identifier\n",
    "    \n",
    "    def __str__(self):\n",
    "        return f\"Book: {Book.title}, Author: {Book.author}, Unique Identifier: {Book.unique_identifier}.\"\n",
    "\n",
    "class Catalog:\n",
    "    # function: add book to catalog\n",
    "    listBook = []\n",
    "    def add_book(self, Book):\n",
    "        self.listBook.append(Book)\n",
    "        \n",
    "    # function: remove book from catalog\n",
    "    def remove_book(self, Book):\n",
    "        self.listBook.pop(Book)\n",
    "\n",
    "    # function: search for books by title or author\n",
    "    def search_book(self, **Book):\n",
    "        if Book.title or Book.author in Book.items():\n",
    "            print(Book.title)\n",
    "\n",
    "Book1 = Book(\"Jakarta Sebelum Pagi\", \"Ziggy Zezsyazeoviennazabrizkie\", 9786023758432)\n",
    "Book2 = Book(\"Crazy Rich Asians\", \"Kevin Kwan\", 9780385536974)\n",
    "Book3 = Book(\"Hujan\", \"Tere Liye\", 9786020324784)\n",
    "Book4 = Book(\"The Things You Can See Only When You Slow Down\", \"Haemin Sunim\", 9786024813659)\n",
    "Book5 = Book(\"Love for Imperfect Things\", \"Haemin Sunim\", 9786024814304)\n",
    "\n",
    "katalog = Catalog()\n",
    "\n",
    "# add book to catalog\n",
    "katalog.add_book(Book1)\n",
    "katalog.add_book(Book2)\n",
    "katalog.add_book(Book3)\n",
    "katalog.add_book(Book4)\n",
    "katalog.add_book(Book5)\n",
    "\n",
    "# remove book from catalog\n",
    "# katalog.remove_book(Book1)\n",
    "\n",
    "# define all books in catalog\n",
    "for Book in katalog.listBook:\n",
    "    print(Book)\n",
    "\n",
    "# search for books by title or author\n",
    "\n"
   ]
  }
 ],
 "metadata": {
  "kernelspec": {
   "display_name": "Python 3",
   "language": "python",
   "name": "python3"
  },
  "language_info": {
   "codemirror_mode": {
    "name": "ipython",
    "version": 3
   },
   "file_extension": ".py",
   "mimetype": "text/x-python",
   "name": "python",
   "nbconvert_exporter": "python",
   "pygments_lexer": "ipython3",
   "version": "3.9.7"
  }
 },
 "nbformat": 4,
 "nbformat_minor": 2
}
