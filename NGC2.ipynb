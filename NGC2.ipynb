{
 "cells": [
  {
   "cell_type": "markdown",
   "metadata": {},
   "source": [
    "## Celine Clarissa Phase 0 FTDS Batch 006 BSD"
   ]
  },
  {
   "cell_type": "markdown",
   "metadata": {},
   "source": [
    "# Task 1 - Number of Word"
   ]
  },
  {
   "cell_type": "code",
   "execution_count": 3,
   "metadata": {},
   "outputs": [
    {
     "name": "stdout",
     "output_type": "stream",
     "text": [
      "2\n",
      "8\n"
     ]
    }
   ],
   "source": [
    "def number_of_word(sentence):\n",
    "    hasil = 0\n",
    "    hasil = len(sentence.split())\n",
    "    return hasil\n",
    "print(number_of_word(sentence='Hello World!'))\n",
    "print(number_of_word(sentence='Once Upon a Time in a faraway land'))"
   ]
  },
  {
   "cell_type": "markdown",
   "metadata": {},
   "source": [
    "# Task 2 - Find Multiple"
   ]
  },
  {
   "cell_type": "code",
   "execution_count": 7,
   "metadata": {},
   "outputs": [
    {
     "name": "stdout",
     "output_type": "stream",
     "text": [
      "[5, 10, 15, 20]\n",
      "[10, 20, 30, 40, 50]\n"
     ]
    }
   ],
   "source": [
    "def find_multiples(start_range, end_range, multiple):\n",
    "    result = []\n",
    "    for i in range(start_range, end_range+1):\n",
    "        if (i % multiple == 0):\n",
    "            result.append(i)\n",
    "    return result\n",
    "\n",
    "print(find_multiples(start_range=1, end_range=20, multiple=5))\n",
    "print(find_multiples(start_range=1, end_range=50, multiple=10))"
   ]
  },
  {
   "cell_type": "markdown",
   "metadata": {},
   "source": [
    "# Task 3 - Grade Converter"
   ]
  },
  {
   "cell_type": "code",
   "execution_count": 9,
   "metadata": {},
   "outputs": [
    {
     "name": "stdout",
     "output_type": "stream",
     "text": [
      "'Adam': 2.5\n",
      "'Faiz': 4\n",
      "None\n",
      "'Albert': A\n",
      "'Dwi': B\n",
      "'Syahdan': D\n",
      "'Veronica': B\n",
      "None\n"
     ]
    }
   ],
   "source": [
    "def Grade_Converter(convert_to, **student_score):\n",
    "    if convert_to == \"letter_grade\":\n",
    "        for name, score in student_score.items():\n",
    "            if score >= 85:\n",
    "                print(f\"'{name}': A\")\n",
    "            elif score >=70:\n",
    "                print(f\"'{name}': B\")\n",
    "            elif score >=60:\n",
    "                print(f\"'{name}': C\")\n",
    "            elif score >=50:\n",
    "                print(f\"'{name}': D\")\n",
    "            elif score >=40:\n",
    "                print(f\"'{name}': E\")\n",
    "            else:\n",
    "                print(f\"'{name}': F\")\n",
    "    elif convert_to == \"gpa\":\n",
    "        for name, score in student_score.items():\n",
    "            if score >= 85:\n",
    "                print(f\"'{name}': 4\")\n",
    "            elif score >=70:\n",
    "                print(f\"'{name}': 3\")\n",
    "            elif score >=60:\n",
    "                print(f\"'{name}': 2.5\")\n",
    "            elif score >=50:\n",
    "                print(f\"'{name}': 2\")\n",
    "            elif score >=40:\n",
    "                print(f\"'{name}': 1.5\")\n",
    "            else:\n",
    "                print(f\"'{name}': 1\")\n",
    "\n",
    "print(Grade_Converter(convert_to=\"gpa\", Adam=62, Faiz=91))\n",
    "print(Grade_Converter(convert_to=\"letter_grade\", Albert=90, Dwi=82, Syahdan=58, Veronica=84))"
   ]
  },
  {
   "cell_type": "markdown",
   "metadata": {},
   "source": [
    "# Task 4 - Fibonacci Sequence"
   ]
  },
  {
   "cell_type": "code",
   "execution_count": 24,
   "metadata": {},
   "outputs": [
    {
     "name": "stdout",
     "output_type": "stream",
     "text": [
      "0\n",
      "3\n",
      "55\n"
     ]
    }
   ],
   "source": [
    "def Fibonacci(n):\n",
    "    angka = [0,1]\n",
    "    for i in range(2, n+1):\n",
    "        angka.append(angka[i-1]+angka[i-2])\n",
    "    return angka[n]\n",
    "\n",
    "print(Fibonacci(n=0))\n",
    "print(Fibonacci(n=4))\n",
    "print(Fibonacci(n=10))"
   ]
  }
 ],
 "metadata": {
  "kernelspec": {
   "display_name": "Python 3",
   "language": "python",
   "name": "python3"
  },
  "language_info": {
   "codemirror_mode": {
    "name": "ipython",
    "version": 3
   },
   "file_extension": ".py",
   "mimetype": "text/x-python",
   "name": "python",
   "nbconvert_exporter": "python",
   "pygments_lexer": "ipython3",
   "version": "3.9.7"
  }
 },
 "nbformat": 4,
 "nbformat_minor": 2
}
